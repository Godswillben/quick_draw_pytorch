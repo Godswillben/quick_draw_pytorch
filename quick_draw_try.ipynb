{
  "nbformat": 4,
  "nbformat_minor": 0,
  "metadata": {
    "colab": {
      "provenance": [],
      "mount_file_id": "1HM-jdwC-Y5nzQR7E5CzJcuKYv4BZPEcE",
      "authorship_tag": "ABX9TyM4cIu7Ue+ugPWX4lxSiBcO",
      "include_colab_link": true
    },
    "kernelspec": {
      "name": "python3",
      "display_name": "Python 3"
    },
    "language_info": {
      "name": "python"
    }
  },
  "cells": [
    {
      "cell_type": "markdown",
      "metadata": {
        "id": "view-in-github",
        "colab_type": "text"
      },
      "source": [
        "<a href=\"https://colab.research.google.com/github/Godswillben/quick_draw_pytorch/blob/master/quick_draw_try.ipynb\" target=\"_parent\"><img src=\"https://colab.research.google.com/assets/colab-badge.svg\" alt=\"Open In Colab\"/></a>"
      ]
    },
    {
      "cell_type": "code",
      "execution_count": 1,
      "metadata": {
        "id": "UxEw6R1lPumc"
      },
      "outputs": [],
      "source": [
        "import numpy as np\n",
        "import pandas as pd\n",
        "import requests\n",
        "from io import BytesIO\n",
        "import pickle\n",
        "from collections import OrderedDict\n",
        "import os\n",
        "from os import path\n",
        "import ast\n",
        "import random\n",
        "\n",
        "from matplotlib.pyplot import imshow\n",
        "import matplotlib.pyplot as plt\n",
        "\n",
        "from sklearn.model_selection import train_test_split\n",
        "from sklearn.metrics import accuracy_score\n",
        "\n",
        "import torch\n",
        "from torch import nn\n",
        "from torch import optim\n",
        "import torch.nn.functional as F\n",
        "from torchvision import datasets, transforms"
      ]
    },
    {
      "cell_type": "code",
      "source": [
        "Quick_draw_steps = [\n",
        "    \"1: Try Downloading dataset datasets from kaggle using python or pytorch code.\",\n",
        "    \"2: Try working with ndjson using pytorch, np, and pandas basically what works(maplotlip etc).\",\n",
        "    \"3: Trying converting to tensors after spliting training and testing datasets\"\n",
        "]"
      ],
      "metadata": {
        "id": "AXn6wbOjW6RE"
      },
      "execution_count": 2,
      "outputs": []
    },
    {
      "cell_type": "code",
      "source": [
        "device = \"cuda\" if torch.cuda.is_available() else \"cpu\""
      ],
      "metadata": {
        "id": "Pic-e99cn7B9"
      },
      "execution_count": 3,
      "outputs": []
    },
    {
      "cell_type": "code",
      "source": [
        "# download quick draw data set and unzip it.\n",
        "import requests\n",
        "import zipfile\n",
        "from pathlib import Path\n",
        "\n",
        "# download eye.ndjson.zip\n",
        "with open(\"eye.ndjson.zip\", \"wb\") as f:\n",
        "  request = requests.get(\"https://github.com/Godswillben/quick_draw_pytorch/raw/refs/heads/master/data_set/eye.ndjson.zip\")\n",
        "  print(\"Downloading Eye ndjson quick draw eye data set\")\n",
        "  f.write(request.content)"
      ],
      "metadata": {
        "colab": {
          "base_uri": "https://localhost:8080/"
        },
        "id": "VAByiOOrt_hs",
        "outputId": "6d72ebc7-cb0a-4e58-aa83-4e579425d25b"
      },
      "execution_count": 4,
      "outputs": [
        {
          "output_type": "stream",
          "name": "stdout",
          "text": [
            "Downloading Eye ndjson quick draw eye data set\n"
          ]
        }
      ]
    },
    {
      "cell_type": "code",
      "source": [
        "# Unzip eyendjson zip file\n",
        "with zipfile.ZipFile(\"eye.ndjson.zip\", \"r\") as zip_ref:\n",
        "  print(\"Unzipping pizza, steak, sushi data...\")\n",
        "  zip_ref.extractall()"
      ],
      "metadata": {
        "colab": {
          "base_uri": "https://localhost:8080/"
        },
        "id": "8xLlG69D7ICO",
        "outputId": "f7dc809b-1a24-41c1-d915-f06bdafc2b1f"
      },
      "execution_count": 5,
      "outputs": [
        {
          "output_type": "stream",
          "name": "stdout",
          "text": [
            "Unzipping pizza, steak, sushi data...\n"
          ]
        }
      ]
    },
    {
      "cell_type": "code",
      "source": [
        "# open eye.ndjson data sets\n",
        "!pip install -q ndjson\n"
      ],
      "metadata": {
        "id": "Xa0N51j-84Ir"
      },
      "execution_count": 6,
      "outputs": []
    },
    {
      "cell_type": "code",
      "source": [
        "import ndjson\n",
        "with open(\"eye.ndjson\") as f:\n",
        "  data = ndjson.load(f)\n"
      ],
      "metadata": {
        "id": "3JwfGXQ2GIO7"
      },
      "execution_count": 7,
      "outputs": []
    },
    {
      "cell_type": "code",
      "source": [
        "data[20]"
      ],
      "metadata": {
        "colab": {
          "base_uri": "https://localhost:8080/"
        },
        "id": "q2oizgVCI8jR",
        "outputId": "2aca17ff-b9ab-43cc-8e31-b0aa7625be5b"
      },
      "execution_count": 46,
      "outputs": [
        {
          "output_type": "execute_result",
          "data": {
            "text/plain": [
              "{'word': 'eye',\n",
              " 'countrycode': 'CZ',\n",
              " 'timestamp': '2017-03-09 09:30:54.07728 UTC',\n",
              " 'recognized': True,\n",
              " 'key_id': '6010459482226688',\n",
              " 'drawing': [[[5, 8, 36, 75, 115, 143, 174, 219, 255],\n",
              "   [40, 34, 17, 2, 0, 3, 13, 41, 75]],\n",
              "  [[0, 14, 35, 63, 92, 198, 218, 254], [39, 74, 98, 116, 122, 125, 114, 80]],\n",
              "  [[33, 42, 59, 127, 151, 187], [57, 50, 44, 41, 52, 80]],\n",
              "  [[40, 44, 84, 139, 169], [59, 72, 92, 94, 82]],\n",
              "  [[98, 98, 103, 98, 99, 104, 107, 101, 95, 96, 101, 101, 91],\n",
              "   [63, 69, 64, 63, 71, 73, 68, 64, 65, 71, 71, 65, 60]]]}"
            ]
          },
          "metadata": {},
          "execution_count": 46
        }
      ]
    },
    {
      "cell_type": "code",
      "source": [
        "len(data)"
      ],
      "metadata": {
        "colab": {
          "base_uri": "https://localhost:8080/"
        },
        "id": "_MDvVadRJCUT",
        "outputId": "8a236ef0-2742-448f-8996-5015e826cb56"
      },
      "execution_count": 47,
      "outputs": [
        {
          "output_type": "execute_result",
          "data": {
            "text/plain": [
              "125888"
            ]
          },
          "metadata": {},
          "execution_count": 47
        }
      ]
    },
    {
      "cell_type": "code",
      "source": [
        "eye_data1=data[100]['drawing']\n",
        "print(len(eye_data1))\n",
        "print(eye_data1)\n",
        "print(len(eye_data1[0]))"
      ],
      "metadata": {
        "colab": {
          "base_uri": "https://localhost:8080/"
        },
        "id": "4N8x9SAQJGcw",
        "outputId": "3edec80d-7ed9-4d7c-dde7-acc27198f7de"
      },
      "execution_count": 99,
      "outputs": [
        {
          "output_type": "stream",
          "name": "stdout",
          "text": [
            "4\n",
            "[[[14, 20, 30, 70, 100, 129, 147, 197, 233, 254, 254, 240, 214, 167, 114, 95, 49, 14, 5], [75, 56, 42, 14, 1, 0, 3, 22, 56, 87, 91, 107, 125, 133, 134, 130, 114, 89, 72]], [[14, 1, 1], [60, 71, 76]], [[106, 86, 72, 68, 71, 82, 97, 124, 147, 166, 173, 176, 176, 171, 159, 143, 111, 95], [9, 19, 39, 65, 88, 104, 113, 116, 112, 102, 93, 81, 62, 44, 27, 17, 10, 13]], [[126, 112, 102, 102, 109, 130, 137, 139, 133, 125], [49, 54, 69, 75, 81, 81, 74, 63, 56, 53]]]\n",
            "2\n"
          ]
        }
      ]
    },
    {
      "cell_type": "code",
      "source": [
        "# pad eye data\n",
        "def pad_data_to_same_length(data, pad_value=0):\n",
        "  \"\"\"Lops through draw\"\"\"\n",
        "  max_lenth = max(len(sublist) for row in data for sublist in row) # returns max sublist array for drawing\n",
        "  padded_data = [\n",
        "      [sublist + [pad_value] * (max_lenth -len(sublist)) for sublist in row] # [0] * 0 = []; [0] * 1 =\n",
        "      for row in data\n",
        "  ]\n",
        "  return padded_data, max_lenth\n",
        "\n",
        "eye_data1, length=pad_data_to_same_length(eye_data1)"
      ],
      "metadata": {
        "id": "MzCsJDPvJgzm"
      },
      "execution_count": 100,
      "outputs": []
    },
    {
      "cell_type": "code",
      "source": [
        "# np_data = torch.tensor(eye_data1, dtype=torch.float32)\n",
        "np_data = np.array(eye_data1, dtype=np.float32)\n",
        "# np_data = np.array([row for sublist in eye_data1 for row in sublist], dtype=np.float32)\n",
        "np_data1 = torch.tensor([row for sublist in eye_data1 for row in sublist], dtype=torch.float32)\n",
        "np_data.shape, np_data"
      ],
      "metadata": {
        "id": "CicR64MTLZdX",
        "colab": {
          "base_uri": "https://localhost:8080/"
        },
        "outputId": "0478dce5-7664-4492-a50f-cf7b280ab31a"
      },
      "execution_count": 105,
      "outputs": [
        {
          "output_type": "execute_result",
          "data": {
            "text/plain": [
              "((4, 2, 19),\n",
              " array([[[ 14.,  20.,  30.,  70., 100., 129., 147., 197., 233., 254.,\n",
              "          254., 240., 214., 167., 114.,  95.,  49.,  14.,   5.],\n",
              "         [ 75.,  56.,  42.,  14.,   1.,   0.,   3.,  22.,  56.,  87.,\n",
              "           91., 107., 125., 133., 134., 130., 114.,  89.,  72.]],\n",
              " \n",
              "        [[ 14.,   1.,   1.,   0.,   0.,   0.,   0.,   0.,   0.,   0.,\n",
              "            0.,   0.,   0.,   0.,   0.,   0.,   0.,   0.,   0.],\n",
              "         [ 60.,  71.,  76.,   0.,   0.,   0.,   0.,   0.,   0.,   0.,\n",
              "            0.,   0.,   0.,   0.,   0.,   0.,   0.,   0.,   0.]],\n",
              " \n",
              "        [[106.,  86.,  72.,  68.,  71.,  82.,  97., 124., 147., 166.,\n",
              "          173., 176., 176., 171., 159., 143., 111.,  95.,   0.],\n",
              "         [  9.,  19.,  39.,  65.,  88., 104., 113., 116., 112., 102.,\n",
              "           93.,  81.,  62.,  44.,  27.,  17.,  10.,  13.,   0.]],\n",
              " \n",
              "        [[126., 112., 102., 102., 109., 130., 137., 139., 133., 125.,\n",
              "            0.,   0.,   0.,   0.,   0.,   0.,   0.,   0.,   0.],\n",
              "         [ 49.,  54.,  69.,  75.,  81.,  81.,  74.,  63.,  56.,  53.,\n",
              "            0.,   0.,   0.,   0.,   0.,   0.,   0.,   0.,   0.]]],\n",
              "       dtype=float32))"
            ]
          },
          "metadata": {},
          "execution_count": 105
        }
      ]
    },
    {
      "cell_type": "code",
      "source": [
        "plt.figure(figsize=(6,6))\n",
        "for stroke in eye_data1:\n",
        "  x_coords, y_coords = stroke\n",
        "  plt.plot(x_coords, y_coords, marker='o', c=\"black\")\n",
        "\n",
        "plt.gca().invert_yaxis()\n",
        "plt.axis(\"equal\")\n",
        "plt.title(\"Brush Stroke visualization\")\n",
        "plt.show()"
      ],
      "metadata": {
        "colab": {
          "base_uri": "https://localhost:8080/",
          "height": 545
        },
        "id": "HvLyOWuhURvK",
        "outputId": "bfedc2bf-c787-43a0-85aa-585dd6491f9d"
      },
      "execution_count": 110,
      "outputs": [
        {
          "output_type": "display_data",
          "data": {
            "text/plain": [
              "<Figure size 600x600 with 1 Axes>"
            ],
            "image/png": "[encoded data removed]"
          },
          "metadata": {}
        }
      ]
    },
    {
      "cell_type": "code",
      "source": [
        "# # normalized data\n",
        "# normalized_data = (np_data - np.min(np_data)) / (np.max(np_data) - np.min(np_data))\n",
        "# normalized_data *= 225\n",
        "# # print(f\"Normalized data:\\n{normalized_data} \\nNomalized data shape: \\n{normalized_data.shape}\")\n",
        "# plt.imshow(normalized_data, cmap=\"grey\")\n",
        "# plt.show()"
      ],
      "metadata": {
        "colab": {
          "base_uri": "https://localhost:8080/",
          "height": 757
        },
        "id": "yI9Rf9XBNcn_",
        "outputId": "c0fc2652-5045-46c3-92f2-976e58740c8f"
      },
      "execution_count": 90,
      "outputs": [
        {
          "output_type": "error",
          "ename": "TypeError",
          "evalue": "Invalid shape (5, 2, 13) for image data",
          "traceback": [
            "\u001b[0;31m---------------------------------------------------------------------------\u001b[0m",
            "\u001b[0;31mTypeError\u001b[0m                                 Traceback (most recent call last)",
            "\u001b[0;32m<ipython-input-90-81d09e9471d0>\u001b[0m in \u001b[0;36m<cell line: 5>\u001b[0;34m()\u001b[0m\n\u001b[1;32m      3\u001b[0m \u001b[0mnormalized_data\u001b[0m \u001b[0;34m*=\u001b[0m \u001b[0;36m225\u001b[0m\u001b[0;34m\u001b[0m\u001b[0;34m\u001b[0m\u001b[0m\n\u001b[1;32m      4\u001b[0m \u001b[0;31m# print(f\"Normalized data:\\n{normalized_data} \\nNomalized data shape: \\n{normalized_data.shape}\")\u001b[0m\u001b[0;34m\u001b[0m\u001b[0;34m\u001b[0m\u001b[0m\n\u001b[0;32m----> 5\u001b[0;31m \u001b[0mplt\u001b[0m\u001b[0;34m.\u001b[0m\u001b[0mimshow\u001b[0m\u001b[0;34m(\u001b[0m\u001b[0mnormalized_data\u001b[0m\u001b[0;34m,\u001b[0m \u001b[0mcmap\u001b[0m\u001b[0;34m=\u001b[0m\u001b[0;34m\"grey\"\u001b[0m\u001b[0;34m)\u001b[0m\u001b[0;34m\u001b[0m\u001b[0;34m\u001b[0m\u001b[0m\n\u001b[0m\u001b[1;32m      6\u001b[0m \u001b[0mplt\u001b[0m\u001b[0;34m.\u001b[0m\u001b[0mshow\u001b[0m\u001b[0;34m(\u001b[0m\u001b[0;34m)\u001b[0m\u001b[0;34m\u001b[0m\u001b[0;34m\u001b[0m\u001b[0m\n",
            "\u001b[0;32m/usr/local/lib/python3.10/dist-packages/matplotlib/pyplot.py\u001b[0m in \u001b[0;36mimshow\u001b[0;34m(X, cmap, norm, aspect, interpolation, alpha, vmin, vmax, origin, extent, interpolation_stage, filternorm, filterrad, resample, url, data, **kwargs)\u001b[0m\n\u001b[1;32m   3344\u001b[0m     \u001b[0;34m**\u001b[0m\u001b[0mkwargs\u001b[0m\u001b[0;34m,\u001b[0m\u001b[0;34m\u001b[0m\u001b[0;34m\u001b[0m\u001b[0m\n\u001b[1;32m   3345\u001b[0m ) -> AxesImage:\n\u001b[0;32m-> 3346\u001b[0;31m     __ret = gca().imshow(\n\u001b[0m\u001b[1;32m   3347\u001b[0m         \u001b[0mX\u001b[0m\u001b[0;34m,\u001b[0m\u001b[0;34m\u001b[0m\u001b[0;34m\u001b[0m\u001b[0m\n\u001b[1;32m   3348\u001b[0m         \u001b[0mcmap\u001b[0m\u001b[0;34m=\u001b[0m\u001b[0mcmap\u001b[0m\u001b[0;34m,\u001b[0m\u001b[0;34m\u001b[0m\u001b[0;34m\u001b[0m\u001b[0m\n",
            "\u001b[0;32m/usr/local/lib/python3.10/dist-packages/matplotlib/__init__.py\u001b[0m in \u001b[0;36minner\u001b[0;34m(ax, data, *args, **kwargs)\u001b[0m\n\u001b[1;32m   1463\u001b[0m     \u001b[0;32mdef\u001b[0m \u001b[0minner\u001b[0m\u001b[0;34m(\u001b[0m\u001b[0max\u001b[0m\u001b[0;34m,\u001b[0m \u001b[0;34m*\u001b[0m\u001b[0margs\u001b[0m\u001b[0;34m,\u001b[0m \u001b[0mdata\u001b[0m\u001b[0;34m=\u001b[0m\u001b[0;32mNone\u001b[0m\u001b[0;34m,\u001b[0m \u001b[0;34m**\u001b[0m\u001b[0mkwargs\u001b[0m\u001b[0;34m)\u001b[0m\u001b[0;34m:\u001b[0m\u001b[0;34m\u001b[0m\u001b[0;34m\u001b[0m\u001b[0m\n\u001b[1;32m   1464\u001b[0m         \u001b[0;32mif\u001b[0m \u001b[0mdata\u001b[0m \u001b[0;32mis\u001b[0m \u001b[0;32mNone\u001b[0m\u001b[0;34m:\u001b[0m\u001b[0;34m\u001b[0m\u001b[0;34m\u001b[0m\u001b[0m\n\u001b[0;32m-> 1465\u001b[0;31m             \u001b[0;32mreturn\u001b[0m \u001b[0mfunc\u001b[0m\u001b[0;34m(\u001b[0m\u001b[0max\u001b[0m\u001b[0;34m,\u001b[0m \u001b[0;34m*\u001b[0m\u001b[0mmap\u001b[0m\u001b[0;34m(\u001b[0m\u001b[0msanitize_sequence\u001b[0m\u001b[0;34m,\u001b[0m \u001b[0margs\u001b[0m\u001b[0;34m)\u001b[0m\u001b[0;34m,\u001b[0m \u001b[0;34m**\u001b[0m\u001b[0mkwargs\u001b[0m\u001b[0;34m)\u001b[0m\u001b[0;34m\u001b[0m\u001b[0;34m\u001b[0m\u001b[0m\n\u001b[0m\u001b[1;32m   1466\u001b[0m \u001b[0;34m\u001b[0m\u001b[0m\n\u001b[1;32m   1467\u001b[0m         \u001b[0mbound\u001b[0m \u001b[0;34m=\u001b[0m \u001b[0mnew_sig\u001b[0m\u001b[0;34m.\u001b[0m\u001b[0mbind\u001b[0m\u001b[0;34m(\u001b[0m\u001b[0max\u001b[0m\u001b[0;34m,\u001b[0m \u001b[0;34m*\u001b[0m\u001b[0margs\u001b[0m\u001b[0;34m,\u001b[0m \u001b[0;34m**\u001b[0m\u001b[0mkwargs\u001b[0m\u001b[0;34m)\u001b[0m\u001b[0;34m\u001b[0m\u001b[0;34m\u001b[0m\u001b[0m\n",
            "\u001b[0;32m/usr/local/lib/python3.10/dist-packages/matplotlib/axes/_axes.py\u001b[0m in \u001b[0;36mimshow\u001b[0;34m(self, X, cmap, norm, aspect, interpolation, alpha, vmin, vmax, origin, extent, interpolation_stage, filternorm, filterrad, resample, url, **kwargs)\u001b[0m\n\u001b[1;32m   5749\u001b[0m             \u001b[0mself\u001b[0m\u001b[0;34m.\u001b[0m\u001b[0mset_aspect\u001b[0m\u001b[0;34m(\u001b[0m\u001b[0maspect\u001b[0m\u001b[0;34m)\u001b[0m\u001b[0;34m\u001b[0m\u001b[0;34m\u001b[0m\u001b[0m\n\u001b[1;32m   5750\u001b[0m \u001b[0;34m\u001b[0m\u001b[0m\n\u001b[0;32m-> 5751\u001b[0;31m         \u001b[0mim\u001b[0m\u001b[0;34m.\u001b[0m\u001b[0mset_data\u001b[0m\u001b[0;34m(\u001b[0m\u001b[0mX\u001b[0m\u001b[0;34m)\u001b[0m\u001b[0;34m\u001b[0m\u001b[0;34m\u001b[0m\u001b[0m\n\u001b[0m\u001b[1;32m   5752\u001b[0m         \u001b[0mim\u001b[0m\u001b[0;34m.\u001b[0m\u001b[0mset_alpha\u001b[0m\u001b[0;34m(\u001b[0m\u001b[0malpha\u001b[0m\u001b[0;34m)\u001b[0m\u001b[0;34m\u001b[0m\u001b[0;34m\u001b[0m\u001b[0m\n\u001b[1;32m   5753\u001b[0m         \u001b[0;32mif\u001b[0m \u001b[0mim\u001b[0m\u001b[0;34m.\u001b[0m\u001b[0mget_clip_path\u001b[0m\u001b[0;34m(\u001b[0m\u001b[0;34m)\u001b[0m \u001b[0;32mis\u001b[0m \u001b[0;32mNone\u001b[0m\u001b[0;34m:\u001b[0m\u001b[0;34m\u001b[0m\u001b[0;34m\u001b[0m\u001b[0m\n",
            "\u001b[0;32m/usr/local/lib/python3.10/dist-packages/matplotlib/image.py\u001b[0m in \u001b[0;36mset_data\u001b[0;34m(self, A)\u001b[0m\n\u001b[1;32m    721\u001b[0m         \u001b[0;32mif\u001b[0m \u001b[0misinstance\u001b[0m\u001b[0;34m(\u001b[0m\u001b[0mA\u001b[0m\u001b[0;34m,\u001b[0m \u001b[0mPIL\u001b[0m\u001b[0;34m.\u001b[0m\u001b[0mImage\u001b[0m\u001b[0;34m.\u001b[0m\u001b[0mImage\u001b[0m\u001b[0;34m)\u001b[0m\u001b[0;34m:\u001b[0m\u001b[0;34m\u001b[0m\u001b[0;34m\u001b[0m\u001b[0m\n\u001b[1;32m    722\u001b[0m             \u001b[0mA\u001b[0m \u001b[0;34m=\u001b[0m \u001b[0mpil_to_array\u001b[0m\u001b[0;34m(\u001b[0m\u001b[0mA\u001b[0m\u001b[0;34m)\u001b[0m  \u001b[0;31m# Needed e.g. to apply png palette.\u001b[0m\u001b[0;34m\u001b[0m\u001b[0;34m\u001b[0m\u001b[0m\n\u001b[0;32m--> 723\u001b[0;31m         \u001b[0mself\u001b[0m\u001b[0;34m.\u001b[0m\u001b[0m_A\u001b[0m \u001b[0;34m=\u001b[0m \u001b[0mself\u001b[0m\u001b[0;34m.\u001b[0m\u001b[0m_normalize_image_array\u001b[0m\u001b[0;34m(\u001b[0m\u001b[0mA\u001b[0m\u001b[0;34m)\u001b[0m\u001b[0;34m\u001b[0m\u001b[0;34m\u001b[0m\u001b[0m\n\u001b[0m\u001b[1;32m    724\u001b[0m         \u001b[0mself\u001b[0m\u001b[0;34m.\u001b[0m\u001b[0m_imcache\u001b[0m \u001b[0;34m=\u001b[0m \u001b[0;32mNone\u001b[0m\u001b[0;34m\u001b[0m\u001b[0;34m\u001b[0m\u001b[0m\n\u001b[1;32m    725\u001b[0m         \u001b[0mself\u001b[0m\u001b[0;34m.\u001b[0m\u001b[0mstale\u001b[0m \u001b[0;34m=\u001b[0m \u001b[0;32mTrue\u001b[0m\u001b[0;34m\u001b[0m\u001b[0;34m\u001b[0m\u001b[0m\n",
            "\u001b[0;32m/usr/local/lib/python3.10/dist-packages/matplotlib/image.py\u001b[0m in \u001b[0;36m_normalize_image_array\u001b[0;34m(A)\u001b[0m\n\u001b[1;32m    691\u001b[0m             \u001b[0mA\u001b[0m \u001b[0;34m=\u001b[0m \u001b[0mA\u001b[0m\u001b[0;34m.\u001b[0m\u001b[0msqueeze\u001b[0m\u001b[0;34m(\u001b[0m\u001b[0;34m-\u001b[0m\u001b[0;36m1\u001b[0m\u001b[0;34m)\u001b[0m  \u001b[0;31m# If just (M, N, 1), assume scalar and apply colormap.\u001b[0m\u001b[0;34m\u001b[0m\u001b[0;34m\u001b[0m\u001b[0m\n\u001b[1;32m    692\u001b[0m         \u001b[0;32mif\u001b[0m \u001b[0;32mnot\u001b[0m \u001b[0;34m(\u001b[0m\u001b[0mA\u001b[0m\u001b[0;34m.\u001b[0m\u001b[0mndim\u001b[0m \u001b[0;34m==\u001b[0m \u001b[0;36m2\u001b[0m \u001b[0;32mor\u001b[0m \u001b[0mA\u001b[0m\u001b[0;34m.\u001b[0m\u001b[0mndim\u001b[0m \u001b[0;34m==\u001b[0m \u001b[0;36m3\u001b[0m \u001b[0;32mand\u001b[0m \u001b[0mA\u001b[0m\u001b[0;34m.\u001b[0m\u001b[0mshape\u001b[0m\u001b[0;34m[\u001b[0m\u001b[0;34m-\u001b[0m\u001b[0;36m1\u001b[0m\u001b[0;34m]\u001b[0m \u001b[0;32min\u001b[0m \u001b[0;34m[\u001b[0m\u001b[0;36m3\u001b[0m\u001b[0;34m,\u001b[0m \u001b[0;36m4\u001b[0m\u001b[0;34m]\u001b[0m\u001b[0;34m)\u001b[0m\u001b[0;34m:\u001b[0m\u001b[0;34m\u001b[0m\u001b[0;34m\u001b[0m\u001b[0m\n\u001b[0;32m--> 693\u001b[0;31m             \u001b[0;32mraise\u001b[0m \u001b[0mTypeError\u001b[0m\u001b[0;34m(\u001b[0m\u001b[0;34mf\"Invalid shape {A.shape} for image data\"\u001b[0m\u001b[0;34m)\u001b[0m\u001b[0;34m\u001b[0m\u001b[0;34m\u001b[0m\u001b[0m\n\u001b[0m\u001b[1;32m    694\u001b[0m         \u001b[0;32mif\u001b[0m \u001b[0mA\u001b[0m\u001b[0;34m.\u001b[0m\u001b[0mndim\u001b[0m \u001b[0;34m==\u001b[0m \u001b[0;36m3\u001b[0m\u001b[0;34m:\u001b[0m\u001b[0;34m\u001b[0m\u001b[0;34m\u001b[0m\u001b[0m\n\u001b[1;32m    695\u001b[0m             \u001b[0;31m# If the input data has values outside the valid range (after\u001b[0m\u001b[0;34m\u001b[0m\u001b[0;34m\u001b[0m\u001b[0m\n",
            "\u001b[0;31mTypeError\u001b[0m: Invalid shape (5, 2, 13) for image data"
          ]
        },
        {
          "output_type": "display_data",
          "data": {
            "text/plain": [
              "<Figure size 640x480 with 1 Axes>"
            ],
            "image/png": "[encoded data removed]"
          },
          "metadata": {}
        }
      ]
    },
    {
      "cell_type": "code",
      "source": [
        "print(np_data1)\n",
        "np_data.shape, np_data.size, np_data1.shape, np_data1.size"
      ],
      "metadata": {
        "colab": {
          "base_uri": "https://localhost:8080/"
        },
        "id": "S4LVqHAOFQg7",
        "outputId": "4f391ae8-a889-49c5-92f2-48ca6f357e48"
      },
      "execution_count": 61,
      "outputs": [
        {
          "output_type": "stream",
          "name": "stdout",
          "text": [
            "tensor([[250., 189., 139., 100.,  83.,  61.,  43.,  26.,  11.,   3.,   2.,  11.,\n",
            "          18.,  47.,  96., 148., 220., 246., 254., 255., 254., 242., 166., 148.,\n",
            "         138., 134.],\n",
            "        [ 59.,  40.,  31.,  28.,  30.,  37.,  47.,  64.,  91., 114., 129., 142.,\n",
            "         146., 151., 152., 143., 120., 101.,  87.,  80.,  76.,  66.,  40.,  39.,\n",
            "          40.,  45.],\n",
            "        [104.,  99.,  89.,  79.,  80.,  89., 111., 117., 117., 102.,  75.,   0.,\n",
            "           0.,   0.,   0.,   0.,   0.,   0.,   0.,   0.,   0.,   0.,   0.,   0.,\n",
            "           0.,   0.],\n",
            "        [ 70.,  67.,  71.,  86., 100., 111., 101.,  94.,  85.,  72.,  61.,   0.,\n",
            "           0.,   0.,   0.,   0.,   0.,   0.,   0.,   0.,   0.,   0.,   0.,   0.,\n",
            "           0.,   0.],\n",
            "        [ 30.,   0.,   0.,   0.,   0.,   0.,   0.,   0.,   0.,   0.,   0.,   0.,\n",
            "           0.,   0.,   0.,   0.,   0.,   0.,   0.,   0.,   0.,   0.,   0.,   0.,\n",
            "           0.,   0.],\n",
            "        [ 62.,  50.,   0.,   0.,   0.,   0.,   0.,   0.,   0.,   0.,   0.,   0.,\n",
            "           0.,   0.,   0.,   0.,   0.,   0.,   0.,   0.,   0.,   0.,   0.,   0.,\n",
            "           0.,   0.],\n",
            "        [ 28.,  27.,  16.,   0.,   0.,   0.,   0.,   0.,   0.,   0.,   0.,   0.,\n",
            "           0.,   0.,   0.,   0.,   0.,   0.,   0.,   0.,   0.,   0.,   0.,   0.,\n",
            "           0.,   0.],\n",
            "        [ 45.,  41.,  33.,   0.,   0.,   0.,   0.,   0.,   0.,   0.,   0.,   0.,\n",
            "           0.,   0.,   0.,   0.,   0.,   0.,   0.,   0.,   0.,   0.,   0.,   0.,\n",
            "           0.,   0.],\n",
            "        [ 50.,  54.,   0.,   0.,   0.,   0.,   0.,   0.,   0.,   0.,   0.,   0.,\n",
            "           0.,   0.,   0.,   0.,   0.,   0.,   0.,   0.,   0.,   0.,   0.,   0.,\n",
            "           0.,   0.],\n",
            "        [ 42.,  12.,   0.,   0.,   0.,   0.,   0.,   0.,   0.,   0.,   0.,   0.,\n",
            "           0.,   0.,   0.,   0.,   0.,   0.,   0.,   0.,   0.,   0.,   0.,   0.,\n",
            "           0.,   0.],\n",
            "        [ 77.,  82.,  94., 103.,   0.,   0.,   0.,   0.,   0.,   0.,   0.,   0.,\n",
            "           0.,   0.,   0.,   0.,   0.,   0.,   0.,   0.,   0.,   0.,   0.,   0.,\n",
            "           0.,   0.],\n",
            "        [ 33.,  16.,   4.,   0.,   0.,   0.,   0.,   0.,   0.,   0.,   0.,   0.,\n",
            "           0.,   0.,   0.,   0.,   0.,   0.,   0.,   0.,   0.,   0.,   0.,   0.,\n",
            "           0.,   0.],\n",
            "        [108., 122., 154.,   0.,   0.,   0.,   0.,   0.,   0.,   0.,   0.,   0.,\n",
            "           0.,   0.,   0.,   0.,   0.,   0.,   0.,   0.,   0.,   0.,   0.,   0.,\n",
            "           0.,   0.],\n",
            "        [ 19.,   9.,   1.,   0.,   0.,   0.,   0.,   0.,   0.,   0.,   0.,   0.,\n",
            "           0.,   0.,   0.,   0.,   0.,   0.,   0.,   0.,   0.,   0.,   0.,   0.,\n",
            "           0.,   0.]])\n"
          ]
        },
        {
          "output_type": "execute_result",
          "data": {
            "text/plain": [
              "(torch.Size([7, 2, 26]),\n",
              " <function Tensor.size>,\n",
              " torch.Size([14, 26]),\n",
              " <function Tensor.size>)"
            ]
          },
          "metadata": {},
          "execution_count": 61
        }
      ]
    },
    {
      "cell_type": "code",
      "source": [
        "plt.imshow(np_data1)\n",
        "plt.colorbar()\n",
        "plt.show()"
      ],
      "metadata": {
        "colab": {
          "base_uri": "https://localhost:8080/",
          "height": 415
        },
        "id": "bLkbArL9JSCp",
        "outputId": "a370dc3a-1b4b-40b7-8807-4ec58f40dd8a"
      },
      "execution_count": 62,
      "outputs": [
        {
          "output_type": "display_data",
          "data": {
            "text/plain": [
              "<Figure size 640x480 with 2 Axes>"
            ],
            "image/png": "[encoded data removed]"
          },
          "metadata": {}
        }
      ]
    },
    {
      "cell_type": "code",
      "source": [],
      "metadata": {
        "id": "_ecHG0MvKe6M"
      },
      "execution_count": null,
      "outputs": []
    }
  ]
}