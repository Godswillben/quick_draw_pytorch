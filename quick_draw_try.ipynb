{
  "nbformat": 4,
  "nbformat_minor": 0,
  "metadata": {
    "colab": {
      "provenance": [],
      "mount_file_id": "1HM-jdwC-Y5nzQR7E5CzJcuKYv4BZPEcE",
      "authorship_tag": "ABX9TyMsJqpjzHMZ6/twp16Tz/eF",
      "include_colab_link": true
    },
    "kernelspec": {
      "name": "python3",
      "display_name": "Python 3"
    },
    "language_info": {
      "name": "python"
    }
  },
  "cells": [
    {
      "cell_type": "markdown",
      "metadata": {
        "id": "view-in-github",
        "colab_type": "text"
      },
      "source": [
        "<a href=\"https://colab.research.google.com/github/Godswillben/quick_draw_pytorch/blob/master/quick_draw_try.ipynb\" target=\"_parent\"><img src=\"https://colab.research.google.com/assets/colab-badge.svg\" alt=\"Open In Colab\"/></a>"
      ]
    },
    {
      "cell_type": "code",
      "execution_count": 1,
      "metadata": {
        "id": "UxEw6R1lPumc"
      },
      "outputs": [],
      "source": [
        "import numpy as np\n",
        "import pandas as pd\n",
        "import requests\n",
        "from io import BytesIO\n",
        "import pickle\n",
        "from collections import OrderedDict\n",
        "import os\n",
        "from os import path\n",
        "import ast\n",
        "import random\n",
        "\n",
        "from matplotlib.pyplot import imshow\n",
        "import matplotlib.pyplot as plt\n",
        "\n",
        "from sklearn.model_selection import train_test_split\n",
        "from sklearn.metrics import accuracy_score\n",
        "\n",
        "import torch\n",
        "from torch import nn\n",
        "from torch import optim\n",
        "import torch.nn.functional as F\n",
        "from torchvision import datasets, transforms"
      ]
    },
    {
      "cell_type": "code",
      "source": [
        "Quick_draw_steps = [\n",
        "    \"1: Try Downloading dataset datasets from kaggle using python or pytorch code.\",\n",
        "    \"2: Try working with ndjson using pytorch, np, and pandas basically what works(maplotlip etc).\",\n",
        "    \"3: Trying converting to tensors after spliting training and testing datasets\"\n",
        "]"
      ],
      "metadata": {
        "id": "AXn6wbOjW6RE"
      },
      "execution_count": 2,
      "outputs": []
    },
    {
      "cell_type": "code",
      "source": [
        "device = \"cuda\" if torch.cuda.is_available() else \"cpu\""
      ],
      "metadata": {
        "id": "Pic-e99cn7B9"
      },
      "execution_count": 3,
      "outputs": []
    },
    {
      "cell_type": "code",
      "source": [
        "# download quick draw data set and unzip it.\n",
        "import requests\n",
        "import zipfile\n",
        "from pathlib import Path\n",
        "\n",
        "# download eye.ndjson.zip\n",
        "with open(\"eye.ndjson.zip\", \"wb\") as f:\n",
        "  request = requests.get(\"https://github.com/Godswillben/quick_draw_pytorch/raw/refs/heads/master/data_set/eye.ndjson.zip\")\n",
        "  print(\"Downloading Eye ndjson quick draw eye data set\")\n",
        "  f.write(request.content)"
      ],
      "metadata": {
        "colab": {
          "base_uri": "https://localhost:8080/"
        },
        "id": "VAByiOOrt_hs",
        "outputId": "6d72ebc7-cb0a-4e58-aa83-4e579425d25b"
      },
      "execution_count": 4,
      "outputs": [
        {
          "output_type": "stream",
          "name": "stdout",
          "text": [
            "Downloading Eye ndjson quick draw eye data set\n"
          ]
        }
      ]
    },
    {
      "cell_type": "code",
      "source": [
        "# Unzip eyendjson zip file\n",
        "with zipfile.ZipFile(\"eye.ndjson.zip\", \"r\") as zip_ref:\n",
        "  print(\"Unzipping pizza, steak, sushi data...\")\n",
        "  zip_ref.extractall()"
      ],
      "metadata": {
        "colab": {
          "base_uri": "https://localhost:8080/"
        },
        "id": "8xLlG69D7ICO",
        "outputId": "f7dc809b-1a24-41c1-d915-f06bdafc2b1f"
      },
      "execution_count": 5,
      "outputs": [
        {
          "output_type": "stream",
          "name": "stdout",
          "text": [
            "Unzipping pizza, steak, sushi data...\n"
          ]
        }
      ]
    },
    {
      "cell_type": "code",
      "source": [
        "# open eye.ndjson data sets\n",
        "!pip install -q ndjson\n"
      ],
      "metadata": {
        "id": "Xa0N51j-84Ir"
      },
      "execution_count": 6,
      "outputs": []
    },
    {
      "cell_type": "code",
      "source": [
        "import ndjson\n",
        "with open(\"eye.ndjson\") as f:\n",
        "  data = ndjson.load(f)\n"
      ],
      "metadata": {
        "id": "3JwfGXQ2GIO7"
      },
      "execution_count": 7,
      "outputs": []
    },
    {
      "cell_type": "code",
      "source": [
        "data[20]"
      ],
      "metadata": {
        "colab": {
          "base_uri": "https://localhost:8080/"
        },
        "id": "q2oizgVCI8jR",
        "outputId": "2aca17ff-b9ab-43cc-8e31-b0aa7625be5b"
      },
      "execution_count": 46,
      "outputs": [
        {
          "output_type": "execute_result",
          "data": {
            "text/plain": [
              "{'word': 'eye',\n",
              " 'countrycode': 'CZ',\n",
              " 'timestamp': '2017-03-09 09:30:54.07728 UTC',\n",
              " 'recognized': True,\n",
              " 'key_id': '6010459482226688',\n",
              " 'drawing': [[[5, 8, 36, 75, 115, 143, 174, 219, 255],\n",
              "   [40, 34, 17, 2, 0, 3, 13, 41, 75]],\n",
              "  [[0, 14, 35, 63, 92, 198, 218, 254], [39, 74, 98, 116, 122, 125, 114, 80]],\n",
              "  [[33, 42, 59, 127, 151, 187], [57, 50, 44, 41, 52, 80]],\n",
              "  [[40, 44, 84, 139, 169], [59, 72, 92, 94, 82]],\n",
              "  [[98, 98, 103, 98, 99, 104, 107, 101, 95, 96, 101, 101, 91],\n",
              "   [63, 69, 64, 63, 71, 73, 68, 64, 65, 71, 71, 65, 60]]]}"
            ]
          },
          "metadata": {},
          "execution_count": 46
        }
      ]
    },
    {
      "cell_type": "code",
      "source": [
        "len(data)"
      ],
      "metadata": {
        "colab": {
          "base_uri": "https://localhost:8080/"
        },
        "id": "_MDvVadRJCUT",
        "outputId": "8a236ef0-2742-448f-8996-5015e826cb56"
      },
      "execution_count": 47,
      "outputs": [
        {
          "output_type": "execute_result",
          "data": {
            "text/plain": [
              "125888"
            ]
          },
          "metadata": {},
          "execution_count": 47
        }
      ]
    },
    {
      "cell_type": "code",
      "source": [
        "eye_data1=data[1]['drawing']\n",
        "print(len(eye_data1))\n",
        "print(eye_data1)\n",
        "print(len(eye_data1[0]))"
      ],
      "metadata": {
        "colab": {
          "base_uri": "https://localhost:8080/"
        },
        "id": "4N8x9SAQJGcw",
        "outputId": "7a2ec28d-f785-4812-8557-4e00533039f5"
      },
      "execution_count": 117,
      "outputs": [
        {
          "output_type": "stream",
          "name": "stdout",
          "text": [
            "8\n",
            "[[[125, 77, 42, 12, 8, 0, 11, 27, 36, 74, 126, 184, 212, 232, 244, 255, 245, 227, 162, 136, 115], [65, 65, 73, 87, 92, 125, 173, 196, 201, 213, 220, 222, 213, 193, 173, 141, 111, 84, 54, 52, 59]], [[99, 92, 75, 67, 62, 66], [62, 80, 110, 141, 180, 215]], [[165, 183, 186, 184, 179, 171], [55, 105, 127, 202, 217, 225]], [[122, 121, 114, 122, 140, 147, 149, 141, 136, 126, 119, 121, 122, 118, 122, 125, 127, 126, 132, 134, 127, 125, 129, 129, 124, 125, 129, 135, 139, 141, 139, 136, 146, 139, 129, 129, 135, 141, 139, 135, 135], [122, 117, 130, 149, 155, 153, 136, 97, 94, 110, 129, 138, 133, 129, 134, 130, 104, 121, 132, 127, 120, 129, 123, 108, 94, 124, 132, 134, 133, 106, 96, 123, 134, 122, 116, 139, 152, 158, 137, 134, 142]], [[22, 5, 1, 4], [77, 46, 25, 30]], [[77, 73], [51, 13]], [[139, 143], [40, 3]], [[182, 182, 195, 200], [59, 53, 25, 5]]]\n",
            "2\n"
          ]
        }
      ]
    },
    {
      "cell_type": "code",
      "source": [
        "# pad eye data\n",
        "def pad_data_to_same_length(data, pad_value=0):\n",
        "  \"\"\"Lops through draw\"\"\"\n",
        "  max_lenth = max(len(sublist) for row in data for sublist in row) # returns max sublist array for drawing\n",
        "  padded_data = [\n",
        "      [sublist + [pad_value] * (max_lenth -len(sublist)) for sublist in row] # [0] * 0 = []; [0] * 1 =\n",
        "      for row in data\n",
        "  ]\n",
        "  return padded_data, max_lenth\n",
        "\n",
        "eye_data1, length=pad_data_to_same_length(eye_data1)"
      ],
      "metadata": {
        "id": "MzCsJDPvJgzm"
      },
      "execution_count": 118,
      "outputs": []
    },
    {
      "cell_type": "code",
      "source": [
        "# np_data = torch.tensor(eye_data1, dtype=torch.float32)\n",
        "np_data = np.array(eye_data1, dtype=np.float32)\n",
        "# np_data = np.array([row for sublist in eye_data1 for row in sublist], dtype=np.float32)\n",
        "np_data1 = torch.tensor([row for sublist in eye_data1 for row in sublist], dtype=torch.float32)\n",
        "np_data.shape, np_data"
      ],
      "metadata": {
        "id": "CicR64MTLZdX",
        "colab": {
          "base_uri": "https://localhost:8080/"
        },
        "outputId": "e616a48d-e73b-43b6-f423-ef68d9e2afe0"
      },
      "execution_count": 119,
      "outputs": [
        {
          "output_type": "execute_result",
          "data": {
            "text/plain": [
              "((8, 2, 41),\n",
              " array([[[125.,  77.,  42.,  12.,   8.,   0.,  11.,  27.,  36.,  74.,\n",
              "          126., 184., 212., 232., 244., 255., 245., 227., 162., 136.,\n",
              "          115.,   0.,   0.,   0.,   0.,   0.,   0.,   0.,   0.,   0.,\n",
              "            0.,   0.,   0.,   0.,   0.,   0.,   0.,   0.,   0.,   0.,\n",
              "            0.],\n",
              "         [ 65.,  65.,  73.,  87.,  92., 125., 173., 196., 201., 213.,\n",
              "          220., 222., 213., 193., 173., 141., 111.,  84.,  54.,  52.,\n",
              "           59.,   0.,   0.,   0.,   0.,   0.,   0.,   0.,   0.,   0.,\n",
              "            0.,   0.,   0.,   0.,   0.,   0.,   0.,   0.,   0.,   0.,\n",
              "            0.]],\n",
              " \n",
              "        [[ 99.,  92.,  75.,  67.,  62.,  66.,   0.,   0.,   0.,   0.,\n",
              "            0.,   0.,   0.,   0.,   0.,   0.,   0.,   0.,   0.,   0.,\n",
              "            0.,   0.,   0.,   0.,   0.,   0.,   0.,   0.,   0.,   0.,\n",
              "            0.,   0.,   0.,   0.,   0.,   0.,   0.,   0.,   0.,   0.,\n",
              "            0.],\n",
              "         [ 62.,  80., 110., 141., 180., 215.,   0.,   0.,   0.,   0.,\n",
              "            0.,   0.,   0.,   0.,   0.,   0.,   0.,   0.,   0.,   0.,\n",
              "            0.,   0.,   0.,   0.,   0.,   0.,   0.,   0.,   0.,   0.,\n",
              "            0.,   0.,   0.,   0.,   0.,   0.,   0.,   0.,   0.,   0.,\n",
              "            0.]],\n",
              " \n",
              "        [[165., 183., 186., 184., 179., 171.,   0.,   0.,   0.,   0.,\n",
              "            0.,   0.,   0.,   0.,   0.,   0.,   0.,   0.,   0.,   0.,\n",
              "            0.,   0.,   0.,   0.,   0.,   0.,   0.,   0.,   0.,   0.,\n",
              "            0.,   0.,   0.,   0.,   0.,   0.,   0.,   0.,   0.,   0.,\n",
              "            0.],\n",
              "         [ 55., 105., 127., 202., 217., 225.,   0.,   0.,   0.,   0.,\n",
              "            0.,   0.,   0.,   0.,   0.,   0.,   0.,   0.,   0.,   0.,\n",
              "            0.,   0.,   0.,   0.,   0.,   0.,   0.,   0.,   0.,   0.,\n",
              "            0.,   0.,   0.,   0.,   0.,   0.,   0.,   0.,   0.,   0.,\n",
              "            0.]],\n",
              " \n",
              "        [[122., 121., 114., 122., 140., 147., 149., 141., 136., 126.,\n",
              "          119., 121., 122., 118., 122., 125., 127., 126., 132., 134.,\n",
              "          127., 125., 129., 129., 124., 125., 129., 135., 139., 141.,\n",
              "          139., 136., 146., 139., 129., 129., 135., 141., 139., 135.,\n",
              "          135.],\n",
              "         [122., 117., 130., 149., 155., 153., 136.,  97.,  94., 110.,\n",
              "          129., 138., 133., 129., 134., 130., 104., 121., 132., 127.,\n",
              "          120., 129., 123., 108.,  94., 124., 132., 134., 133., 106.,\n",
              "           96., 123., 134., 122., 116., 139., 152., 158., 137., 134.,\n",
              "          142.]],\n",
              " \n",
              "        [[ 22.,   5.,   1.,   4.,   0.,   0.,   0.,   0.,   0.,   0.,\n",
              "            0.,   0.,   0.,   0.,   0.,   0.,   0.,   0.,   0.,   0.,\n",
              "            0.,   0.,   0.,   0.,   0.,   0.,   0.,   0.,   0.,   0.,\n",
              "            0.,   0.,   0.,   0.,   0.,   0.,   0.,   0.,   0.,   0.,\n",
              "            0.],\n",
              "         [ 77.,  46.,  25.,  30.,   0.,   0.,   0.,   0.,   0.,   0.,\n",
              "            0.,   0.,   0.,   0.,   0.,   0.,   0.,   0.,   0.,   0.,\n",
              "            0.,   0.,   0.,   0.,   0.,   0.,   0.,   0.,   0.,   0.,\n",
              "            0.,   0.,   0.,   0.,   0.,   0.,   0.,   0.,   0.,   0.,\n",
              "            0.]],\n",
              " \n",
              "        [[ 77.,  73.,   0.,   0.,   0.,   0.,   0.,   0.,   0.,   0.,\n",
              "            0.,   0.,   0.,   0.,   0.,   0.,   0.,   0.,   0.,   0.,\n",
              "            0.,   0.,   0.,   0.,   0.,   0.,   0.,   0.,   0.,   0.,\n",
              "            0.,   0.,   0.,   0.,   0.,   0.,   0.,   0.,   0.,   0.,\n",
              "            0.],\n",
              "         [ 51.,  13.,   0.,   0.,   0.,   0.,   0.,   0.,   0.,   0.,\n",
              "            0.,   0.,   0.,   0.,   0.,   0.,   0.,   0.,   0.,   0.,\n",
              "            0.,   0.,   0.,   0.,   0.,   0.,   0.,   0.,   0.,   0.,\n",
              "            0.,   0.,   0.,   0.,   0.,   0.,   0.,   0.,   0.,   0.,\n",
              "            0.]],\n",
              " \n",
              "        [[139., 143.,   0.,   0.,   0.,   0.,   0.,   0.,   0.,   0.,\n",
              "            0.,   0.,   0.,   0.,   0.,   0.,   0.,   0.,   0.,   0.,\n",
              "            0.,   0.,   0.,   0.,   0.,   0.,   0.,   0.,   0.,   0.,\n",
              "            0.,   0.,   0.,   0.,   0.,   0.,   0.,   0.,   0.,   0.,\n",
              "            0.],\n",
              "         [ 40.,   3.,   0.,   0.,   0.,   0.,   0.,   0.,   0.,   0.,\n",
              "            0.,   0.,   0.,   0.,   0.,   0.,   0.,   0.,   0.,   0.,\n",
              "            0.,   0.,   0.,   0.,   0.,   0.,   0.,   0.,   0.,   0.,\n",
              "            0.,   0.,   0.,   0.,   0.,   0.,   0.,   0.,   0.,   0.,\n",
              "            0.]],\n",
              " \n",
              "        [[182., 182., 195., 200.,   0.,   0.,   0.,   0.,   0.,   0.,\n",
              "            0.,   0.,   0.,   0.,   0.,   0.,   0.,   0.,   0.,   0.,\n",
              "            0.,   0.,   0.,   0.,   0.,   0.,   0.,   0.,   0.,   0.,\n",
              "            0.,   0.,   0.,   0.,   0.,   0.,   0.,   0.,   0.,   0.,\n",
              "            0.],\n",
              "         [ 59.,  53.,  25.,   5.,   0.,   0.,   0.,   0.,   0.,   0.,\n",
              "            0.,   0.,   0.,   0.,   0.,   0.,   0.,   0.,   0.,   0.,\n",
              "            0.,   0.,   0.,   0.,   0.,   0.,   0.,   0.,   0.,   0.,\n",
              "            0.,   0.,   0.,   0.,   0.,   0.,   0.,   0.,   0.,   0.,\n",
              "            0.]]], dtype=float32))"
            ]
          },
          "metadata": {},
          "execution_count": 119
        }
      ]
    },
    {
      "cell_type": "code",
      "source": [
        "plt.figure(figsize=(6,6))\n",
        "for stroke in eye_data1:\n",
        "  x_coords, y_coords = stroke\n",
        "  plt.plot(x_coords, y_coords, marker='o', c=\"black\")\n",
        "\n",
        "plt.gca().invert_yaxis()\n",
        "plt.axis(\"equal\")\n",
        "plt.title(\"Brush Stroke visualization\")\n",
        "plt.show()"
      ],
      "metadata": {
        "colab": {
          "base_uri": "https://localhost:8080/",
          "height": 545
        },
        "id": "HvLyOWuhURvK",
        "outputId": "e75efab3-0052-41ec-8e62-8aa2b1cde295"
      },
      "execution_count": 120,
      "outputs": [
        {
          "output_type": "display_data",
          "data": {
            "text/plain": [
              "<Figure size 600x600 with 1 Axes>"
            ],
            "image/png": "[encoded data removed]"
          },
          "metadata": {}
        }
      ]
    },
    {
      "cell_type": "code",
      "source": [
        "def brush_strokes_to_image(strokes, output_path, image_size=(256, 256)):\n",
        "  \"\"\"\n",
        "    Converts brush stroke data into an image and saves it.\n",
        "    Args:\n",
        "        strokes (list): A list of strokes, each stroke is a pair of [x-coordinates, y-coordinates].\n",
        "        output_path (str): Path to save the generated image.\n",
        "        image_size (tuple): Desired image size (width, height).\n",
        "    \"\"\"\n",
        "    # create a blank canvas\n",
        "  fig, ax = plt.subplots(figsize=(image_size[0]/100, image_size[1]/100), dpi=100)\n",
        "  ax.set_xlim(0, 255)\n",
        "  ax.set_ylim(0, 255)\n",
        "  ax.axis(\"off\")\n",
        "\n",
        "  # Plot each stroke\n",
        "  for stroke in strokes:\n",
        "      x, y = stroke\n",
        "      ax.plot(x, y, color=\"black\", linewidth=2)\n",
        "\n",
        "  plt.gca().invert_yaxis()\n",
        "  plt.axis(\"equal\")\n",
        "  plt.savefig(output_path, bbox_inches=\"tight\", pad_inches=0)\n",
        "  plt.close(fig)"
      ],
      "metadata": {
        "id": "59jRSGXTjFgZ"
      },
      "execution_count": 126,
      "outputs": []
    },
    {
      "cell_type": "code",
      "source": [
        "brush_strokes_to_image(np_data, \"drawing.png\")"
      ],
      "metadata": {
        "id": "a0RNH01ClNcJ"
      },
      "execution_count": 127,
      "outputs": []
    },
    {
      "cell_type": "code",
      "source": [
        "int(len(data) * .7)"
      ],
      "metadata": {
        "colab": {
          "base_uri": "https://localhost:8080/"
        },
        "id": "9ViZ0aLTezBL",
        "outputId": "d1fd4f32-610b-4be7-b5d3-305ab9ea4fb6"
      },
      "execution_count": 116,
      "outputs": [
        {
          "output_type": "execute_result",
          "data": {
            "text/plain": [
              "88121"
            ]
          },
          "metadata": {},
          "execution_count": 116
        }
      ]
    },
    {
      "cell_type": "code",
      "source": [
        "# # normalized data\n",
        "# normalized_data = (np_data - np.min(np_data)) / (np.max(np_data) - np.min(np_data))\n",
        "# normalized_data *= 225\n",
        "# # print(f\"Normalized data:\\n{normalized_data} \\nNomalized data shape: \\n{normalized_data.shape}\")\n",
        "# plt.imshow(normalized_data, cmap=\"grey\")\n",
        "# plt.show()"
      ],
      "metadata": {
        "colab": {
          "base_uri": "https://localhost:8080/",
          "height": 757
        },
        "id": "yI9Rf9XBNcn_",
        "outputId": "c0fc2652-5045-46c3-92f2-976e58740c8f"
      },
      "execution_count": 90,
      "outputs": [
        {
          "output_type": "error",
          "ename": "TypeError",
          "evalue": "Invalid shape (5, 2, 13) for image data",
          "traceback": [
            "\u001b[0;31m---------------------------------------------------------------------------\u001b[0m",
            "\u001b[0;31mTypeError\u001b[0m                                 Traceback (most recent call last)",
            "\u001b[0;32m<ipython-input-90-81d09e9471d0>\u001b[0m in \u001b[0;36m<cell line: 5>\u001b[0;34m()\u001b[0m\n\u001b[1;32m      3\u001b[0m \u001b[0mnormalized_data\u001b[0m \u001b[0;34m*=\u001b[0m \u001b[0;36m225\u001b[0m\u001b[0;34m\u001b[0m\u001b[0;34m\u001b[0m\u001b[0m\n\u001b[1;32m      4\u001b[0m \u001b[0;31m# print(f\"Normalized data:\\n{normalized_data} \\nNomalized data shape: \\n{normalized_data.shape}\")\u001b[0m\u001b[0;34m\u001b[0m\u001b[0;34m\u001b[0m\u001b[0m\n\u001b[0;32m----> 5\u001b[0;31m \u001b[0mplt\u001b[0m\u001b[0;34m.\u001b[0m\u001b[0mimshow\u001b[0m\u001b[0;34m(\u001b[0m\u001b[0mnormalized_data\u001b[0m\u001b[0;34m,\u001b[0m \u001b[0mcmap\u001b[0m\u001b[0;34m=\u001b[0m\u001b[0;34m\"grey\"\u001b[0m\u001b[0;34m)\u001b[0m\u001b[0;34m\u001b[0m\u001b[0;34m\u001b[0m\u001b[0m\n\u001b[0m\u001b[1;32m      6\u001b[0m \u001b[0mplt\u001b[0m\u001b[0;34m.\u001b[0m\u001b[0mshow\u001b[0m\u001b[0;34m(\u001b[0m\u001b[0;34m)\u001b[0m\u001b[0;34m\u001b[0m\u001b[0;34m\u001b[0m\u001b[0m\n",
            "\u001b[0;32m/usr/local/lib/python3.10/dist-packages/matplotlib/pyplot.py\u001b[0m in \u001b[0;36mimshow\u001b[0;34m(X, cmap, norm, aspect, interpolation, alpha, vmin, vmax, origin, extent, interpolation_stage, filternorm, filterrad, resample, url, data, **kwargs)\u001b[0m\n\u001b[1;32m   3344\u001b[0m     \u001b[0;34m**\u001b[0m\u001b[0mkwargs\u001b[0m\u001b[0;34m,\u001b[0m\u001b[0;34m\u001b[0m\u001b[0;34m\u001b[0m\u001b[0m\n\u001b[1;32m   3345\u001b[0m ) -> AxesImage:\n\u001b[0;32m-> 3346\u001b[0;31m     __ret = gca().imshow(\n\u001b[0m\u001b[1;32m   3347\u001b[0m         \u001b[0mX\u001b[0m\u001b[0;34m,\u001b[0m\u001b[0;34m\u001b[0m\u001b[0;34m\u001b[0m\u001b[0m\n\u001b[1;32m   3348\u001b[0m         \u001b[0mcmap\u001b[0m\u001b[0;34m=\u001b[0m\u001b[0mcmap\u001b[0m\u001b[0;34m,\u001b[0m\u001b[0;34m\u001b[0m\u001b[0;34m\u001b[0m\u001b[0m\n",
            "\u001b[0;32m/usr/local/lib/python3.10/dist-packages/matplotlib/__init__.py\u001b[0m in \u001b[0;36minner\u001b[0;34m(ax, data, *args, **kwargs)\u001b[0m\n\u001b[1;32m   1463\u001b[0m     \u001b[0;32mdef\u001b[0m \u001b[0minner\u001b[0m\u001b[0;34m(\u001b[0m\u001b[0max\u001b[0m\u001b[0;34m,\u001b[0m \u001b[0;34m*\u001b[0m\u001b[0margs\u001b[0m\u001b[0;34m,\u001b[0m \u001b[0mdata\u001b[0m\u001b[0;34m=\u001b[0m\u001b[0;32mNone\u001b[0m\u001b[0;34m,\u001b[0m \u001b[0;34m**\u001b[0m\u001b[0mkwargs\u001b[0m\u001b[0;34m)\u001b[0m\u001b[0;34m:\u001b[0m\u001b[0;34m\u001b[0m\u001b[0;34m\u001b[0m\u001b[0m\n\u001b[1;32m   1464\u001b[0m         \u001b[0;32mif\u001b[0m \u001b[0mdata\u001b[0m \u001b[0;32mis\u001b[0m \u001b[0;32mNone\u001b[0m\u001b[0;34m:\u001b[0m\u001b[0;34m\u001b[0m\u001b[0;34m\u001b[0m\u001b[0m\n\u001b[0;32m-> 1465\u001b[0;31m             \u001b[0;32mreturn\u001b[0m \u001b[0mfunc\u001b[0m\u001b[0;34m(\u001b[0m\u001b[0max\u001b[0m\u001b[0;34m,\u001b[0m \u001b[0;34m*\u001b[0m\u001b[0mmap\u001b[0m\u001b[0;34m(\u001b[0m\u001b[0msanitize_sequence\u001b[0m\u001b[0;34m,\u001b[0m \u001b[0margs\u001b[0m\u001b[0;34m)\u001b[0m\u001b[0;34m,\u001b[0m \u001b[0;34m**\u001b[0m\u001b[0mkwargs\u001b[0m\u001b[0;34m)\u001b[0m\u001b[0;34m\u001b[0m\u001b[0;34m\u001b[0m\u001b[0m\n\u001b[0m\u001b[1;32m   1466\u001b[0m \u001b[0;34m\u001b[0m\u001b[0m\n\u001b[1;32m   1467\u001b[0m         \u001b[0mbound\u001b[0m \u001b[0;34m=\u001b[0m \u001b[0mnew_sig\u001b[0m\u001b[0;34m.\u001b[0m\u001b[0mbind\u001b[0m\u001b[0;34m(\u001b[0m\u001b[0max\u001b[0m\u001b[0;34m,\u001b[0m \u001b[0;34m*\u001b[0m\u001b[0margs\u001b[0m\u001b[0;34m,\u001b[0m \u001b[0;34m**\u001b[0m\u001b[0mkwargs\u001b[0m\u001b[0;34m)\u001b[0m\u001b[0;34m\u001b[0m\u001b[0;34m\u001b[0m\u001b[0m\n",
            "\u001b[0;32m/usr/local/lib/python3.10/dist-packages/matplotlib/axes/_axes.py\u001b[0m in \u001b[0;36mimshow\u001b[0;34m(self, X, cmap, norm, aspect, interpolation, alpha, vmin, vmax, origin, extent, interpolation_stage, filternorm, filterrad, resample, url, **kwargs)\u001b[0m\n\u001b[1;32m   5749\u001b[0m             \u001b[0mself\u001b[0m\u001b[0;34m.\u001b[0m\u001b[0mset_aspect\u001b[0m\u001b[0;34m(\u001b[0m\u001b[0maspect\u001b[0m\u001b[0;34m)\u001b[0m\u001b[0;34m\u001b[0m\u001b[0;34m\u001b[0m\u001b[0m\n\u001b[1;32m   5750\u001b[0m \u001b[0;34m\u001b[0m\u001b[0m\n\u001b[0;32m-> 5751\u001b[0;31m         \u001b[0mim\u001b[0m\u001b[0;34m.\u001b[0m\u001b[0mset_data\u001b[0m\u001b[0;34m(\u001b[0m\u001b[0mX\u001b[0m\u001b[0;34m)\u001b[0m\u001b[0;34m\u001b[0m\u001b[0;34m\u001b[0m\u001b[0m\n\u001b[0m\u001b[1;32m   5752\u001b[0m         \u001b[0mim\u001b[0m\u001b[0;34m.\u001b[0m\u001b[0mset_alpha\u001b[0m\u001b[0;34m(\u001b[0m\u001b[0malpha\u001b[0m\u001b[0;34m)\u001b[0m\u001b[0;34m\u001b[0m\u001b[0;34m\u001b[0m\u001b[0m\n\u001b[1;32m   5753\u001b[0m         \u001b[0;32mif\u001b[0m \u001b[0mim\u001b[0m\u001b[0;34m.\u001b[0m\u001b[0mget_clip_path\u001b[0m\u001b[0;34m(\u001b[0m\u001b[0;34m)\u001b[0m \u001b[0;32mis\u001b[0m \u001b[0;32mNone\u001b[0m\u001b[0;34m:\u001b[0m\u001b[0;34m\u001b[0m\u001b[0;34m\u001b[0m\u001b[0m\n",
            "\u001b[0;32m/usr/local/lib/python3.10/dist-packages/matplotlib/image.py\u001b[0m in \u001b[0;36mset_data\u001b[0;34m(self, A)\u001b[0m\n\u001b[1;32m    721\u001b[0m         \u001b[0;32mif\u001b[0m \u001b[0misinstance\u001b[0m\u001b[0;34m(\u001b[0m\u001b[0mA\u001b[0m\u001b[0;34m,\u001b[0m \u001b[0mPIL\u001b[0m\u001b[0;34m.\u001b[0m\u001b[0mImage\u001b[0m\u001b[0;34m.\u001b[0m\u001b[0mImage\u001b[0m\u001b[0;34m)\u001b[0m\u001b[0;34m:\u001b[0m\u001b[0;34m\u001b[0m\u001b[0;34m\u001b[0m\u001b[0m\n\u001b[1;32m    722\u001b[0m             \u001b[0mA\u001b[0m \u001b[0;34m=\u001b[0m \u001b[0mpil_to_array\u001b[0m\u001b[0;34m(\u001b[0m\u001b[0mA\u001b[0m\u001b[0;34m)\u001b[0m  \u001b[0;31m# Needed e.g. to apply png palette.\u001b[0m\u001b[0;34m\u001b[0m\u001b[0;34m\u001b[0m\u001b[0m\n\u001b[0;32m--> 723\u001b[0;31m         \u001b[0mself\u001b[0m\u001b[0;34m.\u001b[0m\u001b[0m_A\u001b[0m \u001b[0;34m=\u001b[0m \u001b[0mself\u001b[0m\u001b[0;34m.\u001b[0m\u001b[0m_normalize_image_array\u001b[0m\u001b[0;34m(\u001b[0m\u001b[0mA\u001b[0m\u001b[0;34m)\u001b[0m\u001b[0;34m\u001b[0m\u001b[0;34m\u001b[0m\u001b[0m\n\u001b[0m\u001b[1;32m    724\u001b[0m         \u001b[0mself\u001b[0m\u001b[0;34m.\u001b[0m\u001b[0m_imcache\u001b[0m \u001b[0;34m=\u001b[0m \u001b[0;32mNone\u001b[0m\u001b[0;34m\u001b[0m\u001b[0;34m\u001b[0m\u001b[0m\n\u001b[1;32m    725\u001b[0m         \u001b[0mself\u001b[0m\u001b[0;34m.\u001b[0m\u001b[0mstale\u001b[0m \u001b[0;34m=\u001b[0m \u001b[0;32mTrue\u001b[0m\u001b[0;34m\u001b[0m\u001b[0;34m\u001b[0m\u001b[0m\n",
            "\u001b[0;32m/usr/local/lib/python3.10/dist-packages/matplotlib/image.py\u001b[0m in \u001b[0;36m_normalize_image_array\u001b[0;34m(A)\u001b[0m\n\u001b[1;32m    691\u001b[0m             \u001b[0mA\u001b[0m \u001b[0;34m=\u001b[0m \u001b[0mA\u001b[0m\u001b[0;34m.\u001b[0m\u001b[0msqueeze\u001b[0m\u001b[0;34m(\u001b[0m\u001b[0;34m-\u001b[0m\u001b[0;36m1\u001b[0m\u001b[0;34m)\u001b[0m  \u001b[0;31m# If just (M, N, 1), assume scalar and apply colormap.\u001b[0m\u001b[0;34m\u001b[0m\u001b[0;34m\u001b[0m\u001b[0m\n\u001b[1;32m    692\u001b[0m         \u001b[0;32mif\u001b[0m \u001b[0;32mnot\u001b[0m \u001b[0;34m(\u001b[0m\u001b[0mA\u001b[0m\u001b[0;34m.\u001b[0m\u001b[0mndim\u001b[0m \u001b[0;34m==\u001b[0m \u001b[0;36m2\u001b[0m \u001b[0;32mor\u001b[0m \u001b[0mA\u001b[0m\u001b[0;34m.\u001b[0m\u001b[0mndim\u001b[0m \u001b[0;34m==\u001b[0m \u001b[0;36m3\u001b[0m \u001b[0;32mand\u001b[0m \u001b[0mA\u001b[0m\u001b[0;34m.\u001b[0m\u001b[0mshape\u001b[0m\u001b[0;34m[\u001b[0m\u001b[0;34m-\u001b[0m\u001b[0;36m1\u001b[0m\u001b[0;34m]\u001b[0m \u001b[0;32min\u001b[0m \u001b[0;34m[\u001b[0m\u001b[0;36m3\u001b[0m\u001b[0;34m,\u001b[0m \u001b[0;36m4\u001b[0m\u001b[0;34m]\u001b[0m\u001b[0;34m)\u001b[0m\u001b[0;34m:\u001b[0m\u001b[0;34m\u001b[0m\u001b[0;34m\u001b[0m\u001b[0m\n\u001b[0;32m--> 693\u001b[0;31m             \u001b[0;32mraise\u001b[0m \u001b[0mTypeError\u001b[0m\u001b[0;34m(\u001b[0m\u001b[0;34mf\"Invalid shape {A.shape} for image data\"\u001b[0m\u001b[0;34m)\u001b[0m\u001b[0;34m\u001b[0m\u001b[0;34m\u001b[0m\u001b[0m\n\u001b[0m\u001b[1;32m    694\u001b[0m         \u001b[0;32mif\u001b[0m \u001b[0mA\u001b[0m\u001b[0;34m.\u001b[0m\u001b[0mndim\u001b[0m \u001b[0;34m==\u001b[0m \u001b[0;36m3\u001b[0m\u001b[0;34m:\u001b[0m\u001b[0;34m\u001b[0m\u001b[0;34m\u001b[0m\u001b[0m\n\u001b[1;32m    695\u001b[0m             \u001b[0;31m# If the input data has values outside the valid range (after\u001b[0m\u001b[0;34m\u001b[0m\u001b[0;34m\u001b[0m\u001b[0m\n",
            "\u001b[0;31mTypeError\u001b[0m: Invalid shape (5, 2, 13) for image data"
          ]
        },
        {
          "output_type": "display_data",
          "data": {
            "text/plain": [
              "<Figure size 640x480 with 1 Axes>"
            ],
            "image/png": "[encoded data removed]"
          },
          "metadata": {}
        }
      ]
    },
    {
      "cell_type": "code",
      "source": [
        "print(np_data1)\n",
        "np_data.shape, np_data.size, np_data1.shape, np_data1.size"
      ],
      "metadata": {
        "colab": {
          "base_uri": "https://localhost:8080/"
        },
        "id": "S4LVqHAOFQg7",
        "outputId": "4f391ae8-a889-49c5-92f2-48ca6f357e48"
      },
      "execution_count": 61,
      "outputs": [
        {
          "output_type": "stream",
          "name": "stdout",
          "text": [
            "tensor([[250., 189., 139., 100.,  83.,  61.,  43.,  26.,  11.,   3.,   2.,  11.,\n",
            "          18.,  47.,  96., 148., 220., 246., 254., 255., 254., 242., 166., 148.,\n",
            "         138., 134.],\n",
            "        [ 59.,  40.,  31.,  28.,  30.,  37.,  47.,  64.,  91., 114., 129., 142.,\n",
            "         146., 151., 152., 143., 120., 101.,  87.,  80.,  76.,  66.,  40.,  39.,\n",
            "          40.,  45.],\n",
            "        [104.,  99.,  89.,  79.,  80.,  89., 111., 117., 117., 102.,  75.,   0.,\n",
            "           0.,   0.,   0.,   0.,   0.,   0.,   0.,   0.,   0.,   0.,   0.,   0.,\n",
            "           0.,   0.],\n",
            "        [ 70.,  67.,  71.,  86., 100., 111., 101.,  94.,  85.,  72.,  61.,   0.,\n",
            "           0.,   0.,   0.,   0.,   0.,   0.,   0.,   0.,   0.,   0.,   0.,   0.,\n",
            "           0.,   0.],\n",
            "        [ 30.,   0.,   0.,   0.,   0.,   0.,   0.,   0.,   0.,   0.,   0.,   0.,\n",
            "           0.,   0.,   0.,   0.,   0.,   0.,   0.,   0.,   0.,   0.,   0.,   0.,\n",
            "           0.,   0.],\n",
            "        [ 62.,  50.,   0.,   0.,   0.,   0.,   0.,   0.,   0.,   0.,   0.,   0.,\n",
            "           0.,   0.,   0.,   0.,   0.,   0.,   0.,   0.,   0.,   0.,   0.,   0.,\n",
            "           0.,   0.],\n",
            "        [ 28.,  27.,  16.,   0.,   0.,   0.,   0.,   0.,   0.,   0.,   0.,   0.,\n",
            "           0.,   0.,   0.,   0.,   0.,   0.,   0.,   0.,   0.,   0.,   0.,   0.,\n",
            "           0.,   0.],\n",
            "        [ 45.,  41.,  33.,   0.,   0.,   0.,   0.,   0.,   0.,   0.,   0.,   0.,\n",
            "           0.,   0.,   0.,   0.,   0.,   0.,   0.,   0.,   0.,   0.,   0.,   0.,\n",
            "           0.,   0.],\n",
            "        [ 50.,  54.,   0.,   0.,   0.,   0.,   0.,   0.,   0.,   0.,   0.,   0.,\n",
            "           0.,   0.,   0.,   0.,   0.,   0.,   0.,   0.,   0.,   0.,   0.,   0.,\n",
            "           0.,   0.],\n",
            "        [ 42.,  12.,   0.,   0.,   0.,   0.,   0.,   0.,   0.,   0.,   0.,   0.,\n",
            "           0.,   0.,   0.,   0.,   0.,   0.,   0.,   0.,   0.,   0.,   0.,   0.,\n",
            "           0.,   0.],\n",
            "        [ 77.,  82.,  94., 103.,   0.,   0.,   0.,   0.,   0.,   0.,   0.,   0.,\n",
            "           0.,   0.,   0.,   0.,   0.,   0.,   0.,   0.,   0.,   0.,   0.,   0.,\n",
            "           0.,   0.],\n",
            "        [ 33.,  16.,   4.,   0.,   0.,   0.,   0.,   0.,   0.,   0.,   0.,   0.,\n",
            "           0.,   0.,   0.,   0.,   0.,   0.,   0.,   0.,   0.,   0.,   0.,   0.,\n",
            "           0.,   0.],\n",
            "        [108., 122., 154.,   0.,   0.,   0.,   0.,   0.,   0.,   0.,   0.,   0.,\n",
            "           0.,   0.,   0.,   0.,   0.,   0.,   0.,   0.,   0.,   0.,   0.,   0.,\n",
            "           0.,   0.],\n",
            "        [ 19.,   9.,   1.,   0.,   0.,   0.,   0.,   0.,   0.,   0.,   0.,   0.,\n",
            "           0.,   0.,   0.,   0.,   0.,   0.,   0.,   0.,   0.,   0.,   0.,   0.,\n",
            "           0.,   0.]])\n"
          ]
        },
        {
          "output_type": "execute_result",
          "data": {
            "text/plain": [
              "(torch.Size([7, 2, 26]),\n",
              " <function Tensor.size>,\n",
              " torch.Size([14, 26]),\n",
              " <function Tensor.size>)"
            ]
          },
          "metadata": {},
          "execution_count": 61
        }
      ]
    },
    {
      "cell_type": "code",
      "source": [
        "plt.imshow(np_data1)\n",
        "plt.colorbar()\n",
        "plt.show()"
      ],
      "metadata": {
        "colab": {
          "base_uri": "https://localhost:8080/",
          "height": 415
        },
        "id": "bLkbArL9JSCp",
        "outputId": "a370dc3a-1b4b-40b7-8807-4ec58f40dd8a"
      },
      "execution_count": 62,
      "outputs": [
        {
          "output_type": "display_data",
          "data": {
            "text/plain": [
              "<Figure size 640x480 with 2 Axes>"
            ],
            "image/png": "[encoded data removed]"
          },
          "metadata": {}
        }
      ]
    },
    {
      "cell_type": "code",
      "source": [],
      "metadata": {
        "id": "_ecHG0MvKe6M"
      },
      "execution_count": null,
      "outputs": []
    }
  ]
}